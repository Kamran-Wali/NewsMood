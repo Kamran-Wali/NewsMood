{
 "cells": [
  {
   "cell_type": "code",
   "execution_count": 1,
   "metadata": {},
   "outputs": [],
   "source": [
    "# Dependencies\n",
    "import tweepy\n",
    "import json\n",
    "import numpy as np\n",
    "import pandas as pd\n",
    "import time\n",
    "from datetime import datetime\n",
    "import matplotlib.pyplot as plt\n",
    "import seaborn as sns\n",
    "\n",
    "# Import and Initialize Sentiment Analyzer\n",
    "from vaderSentiment.vaderSentiment import SentimentIntensityAnalyzer\n",
    "analyzer = SentimentIntensityAnalyzer()\n",
    "\n",
    "# Twitter API Keys\n",
    "from config import (consumer_key,\n",
    "                    consumer_secret,\n",
    "                    access_token,\n",
    "                    access_token_secret)\n"
   ]
  },
  {
   "cell_type": "code",
   "execution_count": 2,
   "metadata": {},
   "outputs": [],
   "source": [
    "# Setup Tweepy API Authentication\n",
    "auth = tweepy.OAuthHandler(consumer_key, consumer_secret)\n",
    "auth.set_access_token(access_token, access_token_secret)\n",
    "api = tweepy.API(auth, parser=tweepy.parsers.JSONParser())"
   ]
  },
  {
   "cell_type": "code",
   "execution_count": 3,
   "metadata": {},
   "outputs": [],
   "source": [
    "# News Outlets \n",
    "target_users = (\"@BBC\",\"@CBSNews\",\"@CNN\",\"@FoxNews\", \"@nytimes\")"
   ]
  },
  {
   "cell_type": "code",
   "execution_count": 4,
   "metadata": {},
   "outputs": [],
   "source": [
    "# Initialize list holding sentiments\n",
    "sentiments = []\n",
    "\n",
    "# Loop through and grab the most recent 100 tweets per term\n",
    "for user in target_users:    \n",
    "    # Get all tweets from home feed    \n",
    "    public_tweets = api.search(user, count=100, result_type=\"recent\")\n",
    "    \n",
    "    # Initialize counter to track tweets\n",
    "    counter = 0\n",
    "    \n",
    "    for tweet in public_tweets[\"statuses\"]:\n",
    "        \n",
    "        # Run Vader Analysis on each tweet\n",
    "        compound = analyzer.polarity_scores(tweet[\"text\"])[\"compound\"]\n",
    "        pos = analyzer.polarity_scores(tweet[\"text\"])[\"pos\"]\n",
    "        neu = analyzer.polarity_scores(tweet[\"text\"])[\"neu\"]\n",
    "        neg = analyzer.polarity_scores(tweet[\"text\"])[\"neg\"]\n",
    "        \n",
    "        tweets_ago = counter\n",
    "        converted_time = datetime.strptime(tweet[\"created_at\"], \"%a %b %d %H:%M:%S %z %Y\")\n",
    "        time_diff = 0 \n",
    "        \n",
    "        sentiments.append({\"User\" : user,\n",
    "                           \"RawDate\": tweet[\"created_at\"],\n",
    "                           \"ConvertedDate\": converted_time,\n",
    "                           \"Compound\" : compound,\n",
    "                           \"Positive\" : pos,\n",
    "                           \"Negative\" : neg,\n",
    "                           \"Neutral\" : neu,\n",
    "                           \"Tweets Ago\" : counter,\n",
    "                           \"Text\": tweet[\"text\"],\n",
    "                           \"TimeDiff\": time_diff})\n",
    "        #Increment counter\n",
    "        counter = counter + 1\n",
    "                           "
   ]
  },
  {
   "cell_type": "code",
   "execution_count": 5,
   "metadata": {},
   "outputs": [],
   "source": [
    "# Create DataFrame from Results List\n",
    "news_sentiments = pd.DataFrame.from_dict(sentiments)"
   ]
  },
  {
   "cell_type": "code",
   "execution_count": 6,
   "metadata": {},
   "outputs": [
    {
     "data": {
      "text/html": [
       "<div>\n",
       "<style scoped>\n",
       "    .dataframe tbody tr th:only-of-type {\n",
       "        vertical-align: middle;\n",
       "    }\n",
       "\n",
       "    .dataframe tbody tr th {\n",
       "        vertical-align: top;\n",
       "    }\n",
       "\n",
       "    .dataframe thead th {\n",
       "        text-align: right;\n",
       "    }\n",
       "</style>\n",
       "<table border=\"1\" class=\"dataframe\">\n",
       "  <thead>\n",
       "    <tr style=\"text-align: right;\">\n",
       "      <th></th>\n",
       "      <th>Compound</th>\n",
       "      <th>ConvertedDate</th>\n",
       "      <th>Negative</th>\n",
       "      <th>Neutral</th>\n",
       "      <th>Positive</th>\n",
       "      <th>RawDate</th>\n",
       "      <th>Text</th>\n",
       "      <th>TimeDiff</th>\n",
       "      <th>Tweets Ago</th>\n",
       "      <th>User</th>\n",
       "    </tr>\n",
       "  </thead>\n",
       "  <tbody>\n",
       "    <tr>\n",
       "      <th>0</th>\n",
       "      <td>0.0772</td>\n",
       "      <td>2018-10-03 21:27:15+00:00</td>\n",
       "      <td>0.000</td>\n",
       "      <td>0.936</td>\n",
       "      <td>0.064</td>\n",
       "      <td>Wed Oct 03 21:27:15 +0000 2018</td>\n",
       "      <td>RT @carolecadwalla: Number of @bbc reports on ...</td>\n",
       "      <td>0</td>\n",
       "      <td>0</td>\n",
       "      <td>@BBC</td>\n",
       "    </tr>\n",
       "    <tr>\n",
       "      <th>1</th>\n",
       "      <td>0.0772</td>\n",
       "      <td>2018-10-03 21:27:13+00:00</td>\n",
       "      <td>0.000</td>\n",
       "      <td>0.936</td>\n",
       "      <td>0.064</td>\n",
       "      <td>Wed Oct 03 21:27:13 +0000 2018</td>\n",
       "      <td>RT @carolecadwalla: Number of @bbc reports on ...</td>\n",
       "      <td>0</td>\n",
       "      <td>1</td>\n",
       "      <td>@BBC</td>\n",
       "    </tr>\n",
       "    <tr>\n",
       "      <th>2</th>\n",
       "      <td>0.0772</td>\n",
       "      <td>2018-10-03 21:27:12+00:00</td>\n",
       "      <td>0.000</td>\n",
       "      <td>0.936</td>\n",
       "      <td>0.064</td>\n",
       "      <td>Wed Oct 03 21:27:12 +0000 2018</td>\n",
       "      <td>RT @carolecadwalla: Number of @bbc reports on ...</td>\n",
       "      <td>0</td>\n",
       "      <td>2</td>\n",
       "      <td>@BBC</td>\n",
       "    </tr>\n",
       "    <tr>\n",
       "      <th>3</th>\n",
       "      <td>-0.5267</td>\n",
       "      <td>2018-10-03 21:27:08+00:00</td>\n",
       "      <td>0.206</td>\n",
       "      <td>0.794</td>\n",
       "      <td>0.000</td>\n",
       "      <td>Wed Oct 03 21:27:08 +0000 2018</td>\n",
       "      <td>RT @carolecadwalla: When @BBCPanorama dropped ...</td>\n",
       "      <td>0</td>\n",
       "      <td>3</td>\n",
       "      <td>@BBC</td>\n",
       "    </tr>\n",
       "    <tr>\n",
       "      <th>4</th>\n",
       "      <td>-0.5267</td>\n",
       "      <td>2018-10-03 21:27:07+00:00</td>\n",
       "      <td>0.206</td>\n",
       "      <td>0.794</td>\n",
       "      <td>0.000</td>\n",
       "      <td>Wed Oct 03 21:27:07 +0000 2018</td>\n",
       "      <td>RT @carolecadwalla: When @BBCPanorama dropped ...</td>\n",
       "      <td>0</td>\n",
       "      <td>4</td>\n",
       "      <td>@BBC</td>\n",
       "    </tr>\n",
       "  </tbody>\n",
       "</table>\n",
       "</div>"
      ],
      "text/plain": [
       "   Compound             ConvertedDate  Negative  Neutral  Positive  \\\n",
       "0    0.0772 2018-10-03 21:27:15+00:00     0.000    0.936     0.064   \n",
       "1    0.0772 2018-10-03 21:27:13+00:00     0.000    0.936     0.064   \n",
       "2    0.0772 2018-10-03 21:27:12+00:00     0.000    0.936     0.064   \n",
       "3   -0.5267 2018-10-03 21:27:08+00:00     0.206    0.794     0.000   \n",
       "4   -0.5267 2018-10-03 21:27:07+00:00     0.206    0.794     0.000   \n",
       "\n",
       "                          RawDate  \\\n",
       "0  Wed Oct 03 21:27:15 +0000 2018   \n",
       "1  Wed Oct 03 21:27:13 +0000 2018   \n",
       "2  Wed Oct 03 21:27:12 +0000 2018   \n",
       "3  Wed Oct 03 21:27:08 +0000 2018   \n",
       "4  Wed Oct 03 21:27:07 +0000 2018   \n",
       "\n",
       "                                                Text  TimeDiff  Tweets Ago  \\\n",
       "0  RT @carolecadwalla: Number of @bbc reports on ...         0           0   \n",
       "1  RT @carolecadwalla: Number of @bbc reports on ...         0           1   \n",
       "2  RT @carolecadwalla: Number of @bbc reports on ...         0           2   \n",
       "3  RT @carolecadwalla: When @BBCPanorama dropped ...         0           3   \n",
       "4  RT @carolecadwalla: When @BBCPanorama dropped ...         0           4   \n",
       "\n",
       "   User  \n",
       "0  @BBC  \n",
       "1  @BBC  \n",
       "2  @BBC  \n",
       "3  @BBC  \n",
       "4  @BBC  "
      ]
     },
     "execution_count": 6,
     "metadata": {},
     "output_type": "execute_result"
    }
   ],
   "source": [
    "news_sentiments.head()"
   ]
  },
  {
   "cell_type": "code",
   "execution_count": 7,
   "metadata": {},
   "outputs": [],
   "source": [
    "#Export the DataFrame to as csv.\n",
    "news_sentiments.to_csv(\"News_Mood.csv\", index=False)"
   ]
  },
  {
   "cell_type": "code",
   "execution_count": 8,
   "metadata": {},
   "outputs": [
    {
     "data": {
      "image/png": "[encoded data removed]",
      "text/plain": [
       "<Figure size 432x288 with 1 Axes>"
      ]
     },
     "metadata": {},
     "output_type": "display_data"
    }
   ],
   "source": [
    "#Plot scatterplot graph.\n",
    "\n",
    "# Set the x limit,\n",
    "plt.xlim(101, -1)\n",
    "#plt.figure(figsize=(10,10))\n",
    "\n",
    "#plot scatterplot using a for loop.\n",
    "for user in target_users:\n",
    "    dataframe = news_sentiments.loc[news_sentiments[\"User\"] == user]\n",
    "    plt.scatter(dataframe[\"Tweets Ago\"],dataframe[\"Compound\"],label = user)\n",
    "    \n",
    "#Add legend\n",
    "plt.legend(bbox_to_anchor = (1,1))\n",
    "\n",
    "#Add title, x axis label, and y axis label.\n",
    "plt.title(\"Sentiment Analysis of Media Tweets (10/03/2018)\")\n",
    "plt.xlabel(\"Tweets Ago\")\n",
    "plt.ylabel(\"Tweet Polarity\")\n",
    "\n",
    "#Set a grid on the plot.\n",
    "plt.grid()\n",
    "\n",
    "plt.savefig(\"Sentiment Analysis of Media Tweets\")\n",
    "plt.show()"
   ]
  },
  {
   "cell_type": "code",
   "execution_count": 9,
   "metadata": {},
   "outputs": [
    {
     "data": {
      "text/plain": [
       "User\n",
       "@BBC       -0.111231\n",
       "@CBSNews    0.077148\n",
       "@CNN       -0.030994\n",
       "@FoxNews   -0.027697\n",
       "@nytimes   -0.009233\n",
       "Name: Compound, dtype: float64"
      ]
     },
     "execution_count": 9,
     "metadata": {},
     "output_type": "execute_result"
    }
   ],
   "source": [
    "average_sentiment = news_sentiments.groupby(\"User\")[\"Compound\"].mean()\n",
    "average_sentiment"
   ]
  },
  {
   "cell_type": "code",
   "execution_count": 10,
   "metadata": {},
   "outputs": [
    {
     "data": {
      "image/png": "[encoded data removed]",
      "text/plain": [
       "<Figure size 432x288 with 1 Axes>"
      ]
     },
     "metadata": {},
     "output_type": "display_data"
    }
   ],
   "source": [
    "x_axis = np.arange(len(average_sentiment))\n",
    "xlabels = average_sentiment.index\n",
    "count = 0\n",
    "for sentiment in average_sentiment:\n",
    "    plt.text(count, sentiment+.01, str(round(sentiment,2)))\n",
    "    count = count + 1\n",
    "plt.bar(x_axis, average_sentiment, tick_label = xlabels, color = ['silver', 'b', 'y', 'g', 'c'])\n",
    "\n",
    "# Set the labels, title, save and show the plot\n",
    "plt.title(\"Overall Sentiment of Media Tweets (10/03/2018)\")\n",
    "plt.xlabel(\"News Organizations\")\n",
    "plt.ylabel(\"Tweet Polarity\")\n",
    "plt.savefig(\"Overall Sentiment of Media Tweets\")\n",
    "plt.show()"
   ]
  },
  {
   "cell_type": "code",
   "execution_count": null,
   "metadata": {},
   "outputs": [],
   "source": []
  }
 ],
 "metadata": {
  "kernelspec": {
   "display_name": "Python 3",
   "language": "python",
   "name": "python3"
  },
  "language_info": {
   "codemirror_mode": {
    "name": "ipython",
    "version": 3
   },
   "file_extension": ".py",
   "mimetype": "text/x-python",
   "name": "python",
   "nbconvert_exporter": "python",
   "pygments_lexer": "ipython3",
   "version": "3.6.5"
  }
 },
 "nbformat": 4,
 "nbformat_minor": 2
}
